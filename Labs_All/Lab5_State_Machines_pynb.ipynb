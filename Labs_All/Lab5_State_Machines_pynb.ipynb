{
  "nbformat": 4,
  "nbformat_minor": 0,
  "metadata": {
    "colab": {
      "name": "Lab5_State_Machines.pynb",
      "provenance": [],
      "collapsed_sections": [],
      "include_colab_link": true
    },
    "kernelspec": {
      "name": "python3",
      "display_name": "Python 3"
    },
    "language_info": {
      "name": "python"
    }
  },
  "cells": [
    {
      "cell_type": "markdown",
      "metadata": {
        "id": "view-in-github",
        "colab_type": "text"
      },
      "source": [
        "<a href=\"https://colab.research.google.com/github/westonMS/FPGA_Colablab/blob/master/Lab5_State_Machines_pynb.ipynb\" target=\"_parent\"><img src=\"https://colab.research.google.com/assets/colab-badge.svg\" alt=\"Open In Colab\"/></a>"
      ]
    },
    {
      "cell_type": "markdown",
      "source": [
        " <p align=\"right\">\n",
        "<img src=\"https://raw.githubusercontent.com/westonMS/FPGA_Colablab/master/Dataflow/media/BYU.svg\"\n",
        "width=\"500\" height=\"\" style=\"display: block; margin: 0 auto\" />\n",
        "</p>"
      ],
      "metadata": {
        "id": "6kxaCkmhoWGz"
      }
    },
    {
      "cell_type": "markdown",
      "source": [
        "\n",
        "<h1>\n",
        "<summary>\n",
        "<h1 align=\"center\">\n",
        "&nbsp;&nbsp;&nbsp;&nbsp;&nbsp;&nbsp;&nbsp;&nbsp;&nbsp;&nbsp;&nbsp;&nbsp;&nbsp;&nbsp;&nbsp;&nbsp;&nbsp;&nbsp;&nbsp;&nbsp;&nbsp;&nbsp;&nbsp;&nbsp;&nbsp;&nbsp;&nbsp;&nbsp;&nbsp;&nbsp;&nbsp;&nbsp;&nbsp;&nbsp;&nbsp;&nbsp;&nbsp;&nbsp;&nbsp;&nbsp;&nbsp;&nbsp;&nbsp;&nbsp;&nbsp;&nbsp;&nbsp;&nbsp;&nbsp;&nbsp;&nbsp;&nbsp;&nbsp;&nbsp;&nbsp;&nbsp;&nbsp;&nbsp;&nbsp;&nbsp;&nbsp;&nbsp;&nbsp;&nbsp;&nbsp;&nbsp;&nbsp;&nbsp;&nbsp;&nbsp;&nbsp;&nbsp;&nbsp;&nbsp;&nbsp;&nbsp;&nbsp;&nbsp;&nbsp;&nbsp;&nbsp;\n",
        "<b>$\\color{DarkBlue}{\\underline{\\textbf{State Machines}}}$<bol><p align=\"right\">\n",
        "</summary>\n",
        "</h1>"
      ],
      "metadata": {
        "id": "7pJcTTDsoc_a"
      }
    },
    {
      "cell_type": "markdown",
      "source": [
        "Think about a vending machine. Its waits for someone to approach. You then must choose what you want. Then you must put in some money. Then it gives you what you want. If you don't like your choice you can go back to choosing. \n",
        "\n",
        "There a 4 unique modes the vending machine can be in.\n",
        "1. Waiting for a user\n",
        "2. Entering a selectiion\n",
        "3. Waiting for payment\n",
        "4. Dispensing Food\n",
        "\n",
        "This is called a state machine. Each mode is called a state. The circuit can remember what state it is in. When certain conditions are meant.   \n",
        "\n",
        "We can represent this with a state graph.\n",
        "\n",
        "<img src=\"https://raw.githubusercontent.com/westonMS/FPGA_Colablab/master/State_Machine/media/state_machine.drawio.svg\"\n",
        "width=\"500\" height=\"300\" style=\"display: block; margin: 0 auto \" />\n",
        "<br>\n",
        "\n",
        "Depending on a few different variables will determine what states we are moving to.   \n",
        "\n",
        "The other thing to consider are Mealy and Moore outputs. A Mealy output only depends on the current state and Moore depends on the current state and another variable. Another way to think about Moore is that usually they are high as the state machines switches states.\n",
        "\n",
        "For example, a Moore could be a signal on State 1 telling  the screen to show a certain. While a Mealy could be the signal that tells the claw to start moving  and where to as it transitions from State 3 to 4."
      ],
      "metadata": {
        "id": "386EaIAioV_N"
      }
    },
    {
      "cell_type": "markdown",
      "source": [
        "Exmample 2:  \n",
        "Think of a washer dryer combo at a laundromat.\n",
        "\n",
        "It waits for someone to put in some coins. If coins are put it in waits for a button to be pressed. If there are enough coins it can be set to wash, dry or both. It then enters either the wash or dry cycle. If its both after wash is done it becomes the dry cycle. When dry finishes the machine goes back into idle state.\n",
        "\n",
        "It has the following states:\n",
        "1. Idle\n",
        "2. Waiting for selection.\n",
        "3. Washing\n",
        "4. Drying\n",
        "5. Done\n",
        "\n",
        "\n",
        "<img src=\"https://raw.githubusercontent.com/westonMS/FPGA_Colablab/master/State_Machine/media/washing_machine.drawio.svg\"\n",
        "width=\"500\" height=\"300\" style=\"display: block; margin: 0 auto \" />\n",
        "<br>\n",
        "\n",
        "The buttons and coins are used to switch it between the different states.  \n",
        "\n",
        "Though not everything is listed, this state machine also includes a few Moore outputs. For example, while in the DONE state, the beeping signal is high which drives the beep sound maker."
      ],
      "metadata": {
        "id": "_BX-3OmmEeYQ"
      }
    },
    {
      "cell_type": "markdown",
      "source": [
        "###Dangers\n",
        "\n",
        "There are some things one should be aware of when creating a state machine. There are two cases which can cause one to fail. Incomplete and conflicting states.\n",
        "\n",
        "Incomplete state is where a certain set out inputs will not trigger any state. \n",
        "\n",
        "<img src=\"https://raw.githubusercontent.com/westonMS/FPGA_Colablab/master/State_Machine/media/StateGrapeTypes.drawio.svg\"\n",
        "width=\"1600\" height=\"200\" style=\"display: block; margin: 0 auto \" />\n",
        "<br>\n",
        "\n",
        "Incomplete State:\n",
        "In this example, there are certain conditions that will result in nothing happening. This will cause unknown behavior. For example, if both X and Y are low, there is no defined path. \n",
        "To check for Incomplete states, you can create a truth table of all possible values and make sure each has an outcome.\n",
        "\n",
        "Conflicting State:\n",
        "In this example, the same inputs can result in either state triggering which is undefined behavior. If X is high and Y is low, this means that A should transition to B and to A. Which one will win out is impossible to tell. This can be fixed by removing overlap.\n",
        "\n",
        "\n"
      ],
      "metadata": {
        "id": "LsH3H-_Jvd2r"
      }
    },
    {
      "cell_type": "markdown",
      "source": [
        "###Reminders for Making a State Machine\n",
        "\n",
        "1. Loop Back\n",
        "Every clock cycle your state machine needs to be evaluated. But what if nothing changes? Then you need to tell the state machine to go to the same state again.\n",
        "\n",
        "2. Incomplete and Conflicting\n",
        "Make sure every state is complete and does not have conflicts. Before coding you state machine. You probably want to draw it out with its different components and states.\n",
        "\n",
        "3. Moore and Mealy\n",
        "You should consider what your Moore and Mealy outputs are.\n",
        "As a hint here is some example code.\n",
        " ```\n",
        " #Example Case\n",
        " STATE:\n",
        "  x <= 1;\n",
        "  ns<= STATE;\n",
        "  if(y == 1) begin\n",
        "    ns <= STATE_2;\n",
        "    z <= 1;\n",
        "```\n",
        "\n",
        "X is a Moore becaues it only relies on which state.  \n",
        "Z is Mealy because it needs to be a certain STATE and Y needs to be high for Z to go high. \n",
        "\n",
        "4. The Case\n",
        "How does one code a state machine? By using cases.\n",
        "```\n",
        "case(cs)\n",
        "  CASE1: Some code;\n",
        "  CASE2: Some code;\n",
        "endcase\n",
        "```\n",
        "You will use a CS and a NS variable. Current state will be used for evaluating your case statement. To change states, set Next State to the desired state. And on every clock cycle, Current state becomes Next state  \n",
        "`cs<=ns;`  \n",
        "\n",
        "\n",
        "\n"
      ],
      "metadata": {
        "id": "IV5Y4bIg7zBY"
      }
    },
    {
      "cell_type": "markdown",
      "source": [
        "\n",
        "# Safe Combination State Machine"
      ],
      "metadata": {
        "id": "jAVVCY9_utFo"
      }
    },
    {
      "cell_type": "markdown",
      "source": [
        "\n",
        "## Basics of State Machines\n",
        "\n",
        "\n"
      ],
      "metadata": {
        "id": "tGwsq0_EvLO_"
      }
    },
    {
      "cell_type": "markdown",
      "source": [
        "### What is a state?\n",
        "\n"
      ],
      "metadata": {
        "id": "u8A2ZyBixMeH"
      }
    },
    {
      "cell_type": "markdown",
      "source": [
        "### Meely and Moore Outputs\n",
        "\n",
        "There are two main types of outputs: Moore and Meely.\n",
        "\n",
        "Moore outputs are outputs that change "
      ],
      "metadata": {
        "id": "Mj6UYRUWxXDC"
      }
    },
    {
      "cell_type": "markdown",
      "source": [
        "### Incomplete and Conflicting State Machines "
      ],
      "metadata": {
        "id": "Y382G0GtxdBR"
      }
    },
    {
      "cell_type": "code",
      "source": [
        ""
      ],
      "metadata": {
        "id": "zb6lJ8Q6vewy"
      },
      "execution_count": null,
      "outputs": []
    },
    {
      "cell_type": "markdown",
      "source": [
        "\n",
        "## Creating a Module"
      ],
      "metadata": {
        "id": "UUCB26A_vQTz"
      }
    },
    {
      "cell_type": "code",
      "source": [
        ""
      ],
      "metadata": {
        "id": "N2eL6OBHveTY"
      },
      "execution_count": null,
      "outputs": []
    },
    {
      "cell_type": "markdown",
      "source": [
        "## Testing with a Simulator"
      ],
      "metadata": {
        "id": "1WWV0YHKvX7w"
      }
    },
    {
      "cell_type": "code",
      "source": [
        ""
      ],
      "metadata": {
        "id": "OPQ3RcFEu2bo"
      },
      "execution_count": null,
      "outputs": []
    },
    {
      "cell_type": "markdown",
      "source": [
        "\n",
        "## Compiling with the F4PGA Toolchain\n"
      ],
      "metadata": {
        "id": "_toaZpwTui3E"
      }
    },
    {
      "cell_type": "markdown",
      "source": [
        "### Installing the Toolchain"
      ],
      "metadata": {
        "id": "IQd2K_jAwbFS"
      }
    },
    {
      "cell_type": "code",
      "source": [
        "!pip install -q condacolab\n",
        "import condacolab\n",
        "condacolab.install()"
      ],
      "metadata": {
        "id": "_Kiqepttt8OK"
      },
      "execution_count": null,
      "outputs": []
    },
    {
      "cell_type": "code",
      "source": [
        "!apt install -y git wget xz-utils"
      ],
      "metadata": {
        "id": "ZQFNmbQquBYV"
      },
      "execution_count": null,
      "outputs": []
    },
    {
      "cell_type": "code",
      "source": [
        "%%bash\n",
        "git clone https://github.com/chipsalliance/f4pga-examples\n",
        "cd f4pga-examples\n"
      ],
      "metadata": {
        "id": "rF1gehMvuC1L"
      },
      "execution_count": null,
      "outputs": []
    },
    {
      "cell_type": "code",
      "source": [
        "%%bash\n",
        "git clone https://github.com/chipsalliance/f4pga-examples\n",
        "cd f4pga-examples\n"
      ],
      "metadata": {
        "id": "SmrWulLfuHUZ"
      },
      "execution_count": null,
      "outputs": []
    },
    {
      "cell_type": "code",
      "source": [
        "#Creates the Conda Environment\n",
        "%%bash\n",
        "cd f4pga-examples\n",
        "export F4PGA_INSTALL_DIR=~/opt/f4pga\n",
        "export FPGA_FAM=xc7\n",
        "bash conda_installer.sh -u -b -p $F4PGA_INSTALL_DIR/$FPGA_FAM/conda;\n",
        "source \"$F4PGA_INSTALL_DIR/$FPGA_FAM/conda/etc/profile.d/conda.sh\";\n",
        "conda env create -f $FPGA_FAM/environment.yml"
      ],
      "metadata": {
        "id": "4RV_Okw2uJYm"
      },
      "execution_count": null,
      "outputs": []
    },
    {
      "cell_type": "code",
      "source": [
        "#Download F4PGA Arch Defs\n",
        "%%bash\n",
        "export F4PGA_INSTALL_DIR=~/opt/f4pga\n",
        "export FPGA_FAM=xc7\n",
        "source \"$F4PGA_INSTALL_DIR/$FPGA_FAM/conda/etc/profile.d/conda.sh\";\n",
        "conda activate xc7\n",
        "mkdir -p $F4PGA_INSTALL_DIR/xc7/install\n",
        "\n",
        "F4PGA_TIMESTAMP='20220523-230829'\n",
        "F4PGA_HASH='934b12d'\n",
        "\n",
        "for PKG in install xc7a50t_test xc7a100t_test xc7a200t_test xc7z010_test; do\n",
        "  wget -qO- https://storage.googleapis.com/symbiflow-arch-defs/artifacts/prod/foss-fpga-tools/symbiflow-arch-defs/continuous/install/${F4PGA_TIMESTAMP}/symbiflow-arch-defs-${PKG}-${F4PGA_HASH}.tar.xz | tar -xJC $F4PGA_INSTALL_DIR/${FPGA_FAM}/install\n",
        "done"
      ],
      "metadata": {
        "id": "FBqTs5CsuLb6"
      },
      "execution_count": null,
      "outputs": []
    },
    {
      "cell_type": "markdown",
      "source": [
        "### Compiling with the Toolchain"
      ],
      "metadata": {
        "id": "EzO5bK_Awg2q"
      }
    },
    {
      "cell_type": "code",
      "source": [
        "#This creates the Makefile\n",
        "with open(\"./Lab10/Makefile\", \"w\") as f:\n",
        "  f.write(\"\"\"current_dir := ${CURDIR}\n",
        "TARGET := basys3\n",
        "\n",
        "TOP := codebreaker_serial_top\n",
        "\n",
        "XDC := ${current_dir}/*.xdc\n",
        "\n",
        "SOURCES := $(wildcard ${current_dir}/*.v ${current_dir}/*.sv)\n",
        "\n",
        "include /content/f4pga-examples/common/common.mk\n",
        "\"\"\")"
      ],
      "metadata": {
        "id": "ZnnVzP55uSCL"
      },
      "execution_count": null,
      "outputs": []
    },
    {
      "cell_type": "code",
      "source": [
        "#Make the project\n",
        "%%bash\n",
        "export F4PGA_INSTALL_DIR=~/opt/f4pga\n",
        "export FPGA_FAM=xc7\n",
        "export TARGET=basys3\n",
        "source \"$F4PGA_INSTALL_DIR/$FPGA_FAM/conda/etc/profile.d/conda.sh\";\n",
        "conda activate xc7\n",
        "cd ./Lab10\n",
        "make 2> ./error.log 1>./compile.log\n",
        "cp ./build/basys/*.bit ./codebreaker_serial_top.bit"
      ],
      "metadata": {
        "id": "RmnDxe2MuPcG"
      },
      "execution_count": null,
      "outputs": []
    },
    {
      "cell_type": "code",
      "source": [
        "#Create File for openocd\n",
        "with open(\"./Lab10/7series.cfg\", \"w\") as f:\n",
        "  f.write(\"\"\"interface ftdi\n",
        "ftdi_device_desc \"Digilent USB Device\"\n",
        "ftdi_vid_pid 0x0403 0x6010\n",
        "# channel 1 does not have any functionality\n",
        "ftdi_channel 0\n",
        "# just TCK TDI TDO TMS, no reset\n",
        "ftdi_layout_init 0x0088 0x008b\n",
        "reset_config none\n",
        "adapter_khz 10000\n",
        "\n",
        "source [find cpld/xilinx-xc7.cfg]\n",
        "source [find cpld/jtagspi.cfg]\n",
        "init\n",
        "\n",
        "puts [irscan xc7.tap 0x09]\n",
        "\n",
        "set xc7a35t \"0362D093\"\n",
        "set xc7a100t \"13631093\"\n",
        "set code [drscan xc7.tap 32 0]  \n",
        "puts $code\n",
        "\n",
        "if { $code == $xc7a35t} {\n",
        "    puts \"The board has an xc7a35t\"\n",
        "}\n",
        "\n",
        "if { $code == $xc7a100t} {\n",
        "    puts \"The board has an xc7a100t\"\n",
        "}\n",
        "\n",
        "puts \"Programming...\"\n",
        "pld load 0 codebreaker_serial_top.bit\n",
        "exit\"\"\"\n",
        ")"
      ],
      "metadata": {
        "id": "1XrEe8VTuUdg"
      },
      "execution_count": null,
      "outputs": []
    },
    {
      "cell_type": "markdown",
      "source": [
        "## Testing it on the board"
      ],
      "metadata": {
        "id": "jkKm3WaizMYC"
      }
    }
  ]
}